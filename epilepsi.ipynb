{
 "cells": [
  {
   "cell_type": "code",
   "execution_count": 50,
   "metadata": {},
   "outputs": [
    {
     "data": {
      "text/html": [
       "<div>\n",
       "<style scoped>\n",
       "    .dataframe tbody tr th:only-of-type {\n",
       "        vertical-align: middle;\n",
       "    }\n",
       "\n",
       "    .dataframe tbody tr th {\n",
       "        vertical-align: top;\n",
       "    }\n",
       "\n",
       "    .dataframe thead th {\n",
       "        text-align: right;\n",
       "    }\n",
       "</style>\n",
       "<table border=\"1\" class=\"dataframe\">\n",
       "  <thead>\n",
       "    <tr style=\"text-align: right;\">\n",
       "      <th></th>\n",
       "      <th>Unnamed: 0</th>\n",
       "      <th>treatment</th>\n",
       "      <th>base</th>\n",
       "      <th>age</th>\n",
       "      <th>seizure.rate</th>\n",
       "      <th>period</th>\n",
       "      <th>subject</th>\n",
       "    </tr>\n",
       "  </thead>\n",
       "  <tbody>\n",
       "    <tr>\n",
       "      <td>0</td>\n",
       "      <td>1</td>\n",
       "      <td>placebo</td>\n",
       "      <td>11</td>\n",
       "      <td>31</td>\n",
       "      <td>5</td>\n",
       "      <td>1</td>\n",
       "      <td>1</td>\n",
       "    </tr>\n",
       "    <tr>\n",
       "      <td>1</td>\n",
       "      <td>110</td>\n",
       "      <td>placebo</td>\n",
       "      <td>11</td>\n",
       "      <td>31</td>\n",
       "      <td>3</td>\n",
       "      <td>2</td>\n",
       "      <td>1</td>\n",
       "    </tr>\n",
       "    <tr>\n",
       "      <td>2</td>\n",
       "      <td>112</td>\n",
       "      <td>placebo</td>\n",
       "      <td>11</td>\n",
       "      <td>31</td>\n",
       "      <td>3</td>\n",
       "      <td>3</td>\n",
       "      <td>1</td>\n",
       "    </tr>\n",
       "    <tr>\n",
       "      <td>3</td>\n",
       "      <td>114</td>\n",
       "      <td>placebo</td>\n",
       "      <td>11</td>\n",
       "      <td>31</td>\n",
       "      <td>3</td>\n",
       "      <td>4</td>\n",
       "      <td>1</td>\n",
       "    </tr>\n",
       "    <tr>\n",
       "      <td>4</td>\n",
       "      <td>2</td>\n",
       "      <td>placebo</td>\n",
       "      <td>11</td>\n",
       "      <td>30</td>\n",
       "      <td>3</td>\n",
       "      <td>1</td>\n",
       "      <td>2</td>\n",
       "    </tr>\n",
       "    <tr>\n",
       "      <td>...</td>\n",
       "      <td>...</td>\n",
       "      <td>...</td>\n",
       "      <td>...</td>\n",
       "      <td>...</td>\n",
       "      <td>...</td>\n",
       "      <td>...</td>\n",
       "      <td>...</td>\n",
       "    </tr>\n",
       "    <tr>\n",
       "      <td>231</td>\n",
       "      <td>583</td>\n",
       "      <td>Progabide</td>\n",
       "      <td>13</td>\n",
       "      <td>36</td>\n",
       "      <td>0</td>\n",
       "      <td>4</td>\n",
       "      <td>58</td>\n",
       "    </tr>\n",
       "    <tr>\n",
       "      <td>232</td>\n",
       "      <td>59</td>\n",
       "      <td>Progabide</td>\n",
       "      <td>12</td>\n",
       "      <td>37</td>\n",
       "      <td>1</td>\n",
       "      <td>1</td>\n",
       "      <td>59</td>\n",
       "    </tr>\n",
       "    <tr>\n",
       "      <td>233</td>\n",
       "      <td>591</td>\n",
       "      <td>Progabide</td>\n",
       "      <td>12</td>\n",
       "      <td>37</td>\n",
       "      <td>4</td>\n",
       "      <td>2</td>\n",
       "      <td>59</td>\n",
       "    </tr>\n",
       "    <tr>\n",
       "      <td>234</td>\n",
       "      <td>592</td>\n",
       "      <td>Progabide</td>\n",
       "      <td>12</td>\n",
       "      <td>37</td>\n",
       "      <td>3</td>\n",
       "      <td>3</td>\n",
       "      <td>59</td>\n",
       "    </tr>\n",
       "    <tr>\n",
       "      <td>235</td>\n",
       "      <td>593</td>\n",
       "      <td>Progabide</td>\n",
       "      <td>12</td>\n",
       "      <td>37</td>\n",
       "      <td>2</td>\n",
       "      <td>4</td>\n",
       "      <td>59</td>\n",
       "    </tr>\n",
       "  </tbody>\n",
       "</table>\n",
       "<p>236 rows × 7 columns</p>\n",
       "</div>"
      ],
      "text/plain": [
       "     Unnamed: 0  treatment  base  age  seizure.rate  period  subject\n",
       "0             1    placebo    11   31             5       1        1\n",
       "1           110    placebo    11   31             3       2        1\n",
       "2           112    placebo    11   31             3       3        1\n",
       "3           114    placebo    11   31             3       4        1\n",
       "4             2    placebo    11   30             3       1        2\n",
       "..          ...        ...   ...  ...           ...     ...      ...\n",
       "231         583  Progabide    13   36             0       4       58\n",
       "232          59  Progabide    12   37             1       1       59\n",
       "233         591  Progabide    12   37             4       2       59\n",
       "234         592  Progabide    12   37             3       3       59\n",
       "235         593  Progabide    12   37             2       4       59\n",
       "\n",
       "[236 rows x 7 columns]"
      ]
     },
     "execution_count": 50,
     "metadata": {},
     "output_type": "execute_result"
    }
   ],
   "source": [
    "import glob, os\n",
    "import sklearn as sk\n",
    "from datetime import datetime\n",
    "import numpy as np\n",
    "import matplotlib.pyplot as plt\n",
    "import pandas as pd\n",
    "from sklearn.metrics import classification_report, accuracy_score, confusion_matrix\n",
    "from sklearn.feature_selection import RFECV\n",
    "from sklearn.model_selection import StratifiedKFold\n",
    "import seaborn as sns\n",
    "from sklearn.svm import SVC\n",
    "from mlxtend.plotting import plot_decision_regions\n",
    "\n",
    "#veriyukleme\n",
    "epilepsy=pd.read_csv(\"epilepsi.csv\")\n",
    "epilepsy"
   ]
  },
  {
   "cell_type": "code",
   "execution_count": 51,
   "metadata": {},
   "outputs": [],
   "source": [
    "from sklearn.utils import shuffle\n",
    "\n",
    "conditions=['base','age','seizure.rate','period']\n",
    "X=epilepsy[conditions]\n",
    "y = epilepsy['treatment']\n",
    "\n",
    "# set labels as 0 or 1\n",
    "y = y.map(dict(placebo=1, Progabide=0))"
   ]
  },
  {
   "cell_type": "code",
   "execution_count": 52,
   "metadata": {},
   "outputs": [
    {
     "data": {
      "text/html": [
       "<div>\n",
       "<style scoped>\n",
       "    .dataframe tbody tr th:only-of-type {\n",
       "        vertical-align: middle;\n",
       "    }\n",
       "\n",
       "    .dataframe tbody tr th {\n",
       "        vertical-align: top;\n",
       "    }\n",
       "\n",
       "    .dataframe thead th {\n",
       "        text-align: right;\n",
       "    }\n",
       "</style>\n",
       "<table border=\"1\" class=\"dataframe\">\n",
       "  <thead>\n",
       "    <tr style=\"text-align: right;\">\n",
       "      <th></th>\n",
       "      <th>base</th>\n",
       "      <th>age</th>\n",
       "      <th>seizure.rate</th>\n",
       "      <th>period</th>\n",
       "    </tr>\n",
       "  </thead>\n",
       "  <tbody>\n",
       "    <tr>\n",
       "      <td>227</td>\n",
       "      <td>25</td>\n",
       "      <td>21</td>\n",
       "      <td>1</td>\n",
       "      <td>4</td>\n",
       "    </tr>\n",
       "    <tr>\n",
       "      <td>222</td>\n",
       "      <td>22</td>\n",
       "      <td>26</td>\n",
       "      <td>19</td>\n",
       "      <td>3</td>\n",
       "    </tr>\n",
       "    <tr>\n",
       "      <td>126</td>\n",
       "      <td>10</td>\n",
       "      <td>30</td>\n",
       "      <td>1</td>\n",
       "      <td>3</td>\n",
       "    </tr>\n",
       "    <tr>\n",
       "      <td>198</td>\n",
       "      <td>22</td>\n",
       "      <td>32</td>\n",
       "      <td>2</td>\n",
       "      <td>3</td>\n",
       "    </tr>\n",
       "    <tr>\n",
       "      <td>107</td>\n",
       "      <td>10</td>\n",
       "      <td>19</td>\n",
       "      <td>2</td>\n",
       "      <td>4</td>\n",
       "    </tr>\n",
       "    <tr>\n",
       "      <td>...</td>\n",
       "      <td>...</td>\n",
       "      <td>...</td>\n",
       "      <td>...</td>\n",
       "      <td>...</td>\n",
       "    </tr>\n",
       "    <tr>\n",
       "      <td>67</td>\n",
       "      <td>18</td>\n",
       "      <td>28</td>\n",
       "      <td>3</td>\n",
       "      <td>4</td>\n",
       "    </tr>\n",
       "    <tr>\n",
       "      <td>192</td>\n",
       "      <td>151</td>\n",
       "      <td>22</td>\n",
       "      <td>102</td>\n",
       "      <td>1</td>\n",
       "    </tr>\n",
       "    <tr>\n",
       "      <td>117</td>\n",
       "      <td>38</td>\n",
       "      <td>32</td>\n",
       "      <td>7</td>\n",
       "      <td>2</td>\n",
       "    </tr>\n",
       "    <tr>\n",
       "      <td>47</td>\n",
       "      <td>33</td>\n",
       "      <td>24</td>\n",
       "      <td>4</td>\n",
       "      <td>4</td>\n",
       "    </tr>\n",
       "    <tr>\n",
       "      <td>172</td>\n",
       "      <td>36</td>\n",
       "      <td>21</td>\n",
       "      <td>10</td>\n",
       "      <td>1</td>\n",
       "    </tr>\n",
       "  </tbody>\n",
       "</table>\n",
       "<p>177 rows × 4 columns</p>\n",
       "</div>"
      ],
      "text/plain": [
       "     base  age  seizure.rate  period\n",
       "227    25   21             1       4\n",
       "222    22   26            19       3\n",
       "126    10   30             1       3\n",
       "198    22   32             2       3\n",
       "107    10   19             2       4\n",
       "..    ...  ...           ...     ...\n",
       "67     18   28             3       4\n",
       "192   151   22           102       1\n",
       "117    38   32             7       2\n",
       "47     33   24             4       4\n",
       "172    36   21            10       1\n",
       "\n",
       "[177 rows x 4 columns]"
      ]
     },
     "execution_count": 52,
     "metadata": {},
     "output_type": "execute_result"
    }
   ],
   "source": [
    "#Train-Test Split\n",
    "from sklearn.model_selection import train_test_split\n",
    "X_train, X_test, y_train, y_test = train_test_split(X, y, train_size=0.75, random_state=0)\n",
    "X_train"
   ]
  },
  {
   "cell_type": "markdown",
   "metadata": {},
   "source": [
    "## K-Nearest Neighbors"
   ]
  },
  {
   "cell_type": "code",
   "execution_count": 53,
   "metadata": {},
   "outputs": [
    {
     "name": "stdout",
     "output_type": "stream",
     "text": [
      "Training ...\n",
      "KNN training took 1016 microseconds\n"
     ]
    }
   ],
   "source": [
    "from sklearn.neighbors import KNeighborsClassifier\n",
    "\n",
    "print (\"Training ...\")\n",
    "start = datetime.now()\n",
    "knn = KNeighborsClassifier(n_neighbors=2,metric='minkowski')\n",
    "knn.fit(X_train, y_train)\n",
    "end = datetime.now()\n",
    "c = end - start\n",
    "print(\"KNN training took \"+ str(c.microseconds) + \" microseconds\")"
   ]
  },
  {
   "cell_type": "code",
   "execution_count": 54,
   "metadata": {},
   "outputs": [
    {
     "name": "stdout",
     "output_type": "stream",
     "text": [
      "Testing:\n",
      "              precision    recall  f1-score   support\n",
      "\n",
      "           0       0.83      0.94      0.88        32\n",
      "           1       0.91      0.78      0.84        27\n",
      "\n",
      "    accuracy                           0.86        59\n",
      "   macro avg       0.87      0.86      0.86        59\n",
      "weighted avg       0.87      0.86      0.86        59\n",
      "\n",
      "Accuracy: 0.864\n",
      "Confusion matrix:\n",
      "[[30  2]\n",
      " [ 6 21]]\n"
     ]
    }
   ],
   "source": [
    "print (\"Testing:\")\n",
    "y_pred = knn.predict(X_test)\n",
    "print (classification_report(y_test, y_pred, labels=None, target_names=None, sample_weight=None, digits=2, output_dict=False))\n",
    "print\n",
    "print (\"Accuracy: %.3f\" % accuracy_score(y_test, y_pred))\n",
    "print\n",
    "print (\"Confusion matrix:\")\n",
    "print (confusion_matrix(y_test, y_pred))\n"
   ]
  },
  {
   "cell_type": "markdown",
   "metadata": {},
   "source": [
    "## Support Vector Machines"
   ]
  },
  {
   "cell_type": "code",
   "execution_count": 55,
   "metadata": {},
   "outputs": [
    {
     "name": "stdout",
     "output_type": "stream",
     "text": [
      "Training ...\n",
      "SVM training took 1967 microseconds\n"
     ]
    }
   ],
   "source": [
    "from sklearn.svm import SVC\n",
    "start = datetime.now()\n",
    "svc=SVC(kernel=\"rbf\",gamma=\"auto\")\n",
    "print (\"Training ...\")\n",
    "svc.fit(X_train,y_train)\n",
    "end = datetime.now()\n",
    "c = end - start\n",
    "print(\"SVM training took \"+ str(c.microseconds) + \" microseconds\")"
   ]
  },
  {
   "cell_type": "code",
   "execution_count": 56,
   "metadata": {},
   "outputs": [
    {
     "name": "stdout",
     "output_type": "stream",
     "text": [
      "Testing:\n",
      "              precision    recall  f1-score   support\n",
      "\n",
      "           0       0.89      0.97      0.93        32\n",
      "           1       0.96      0.85      0.90        27\n",
      "\n",
      "    accuracy                           0.92        59\n",
      "   macro avg       0.92      0.91      0.91        59\n",
      "weighted avg       0.92      0.92      0.91        59\n",
      "\n",
      "Accuracy: 0.915\n",
      "Confusion matrix:\n",
      "[[31  1]\n",
      " [ 4 23]]\n"
     ]
    }
   ],
   "source": [
    "print (\"Testing:\")\n",
    "y_pred = svc.predict(X_test)\n",
    "print (classification_report(y_test, y_pred, labels=None, target_names=None, sample_weight=None, digits=2, output_dict=False))\n",
    "print (\"Accuracy: %.3f\" % accuracy_score(y_test, y_pred))\n",
    "print\n",
    "print (\"Confusion matrix:\")\n",
    "print (confusion_matrix(y_test, y_pred))"
   ]
  },
  {
   "cell_type": "markdown",
   "metadata": {},
   "source": [
    "## Logistic Regression"
   ]
  },
  {
   "cell_type": "code",
   "execution_count": 57,
   "metadata": {},
   "outputs": [
    {
     "name": "stdout",
     "output_type": "stream",
     "text": [
      "Training ...\n",
      "Logistic regression took 4988 microseconds\n"
     ]
    }
   ],
   "source": [
    "from sklearn.linear_model import LogisticRegression\n",
    "\n",
    "start = datetime.now()\n",
    "logr=LogisticRegression(solver='lbfgs',C=50)\n",
    "print (\"Training ...\")\n",
    "logr.fit(X_train,y_train)\n",
    "end = datetime.now()\n",
    "c = end - start \n",
    "print(\"Logistic regression took \"+ str(c.microseconds) + \" microseconds\")"
   ]
  },
  {
   "cell_type": "code",
   "execution_count": 58,
   "metadata": {},
   "outputs": [
    {
     "name": "stdout",
     "output_type": "stream",
     "text": [
      "Testing:\n",
      "              precision    recall  f1-score   support\n",
      "\n",
      "           0       0.59      0.62      0.61        32\n",
      "           1       0.52      0.48      0.50        27\n",
      "\n",
      "    accuracy                           0.56        59\n",
      "   macro avg       0.55      0.55      0.55        59\n",
      "weighted avg       0.56      0.56      0.56        59\n",
      "\n",
      "Accuracy: 0.559\n",
      "Confusion matrix:\n",
      "[[20 12]\n",
      " [14 13]]\n",
      "\n"
     ]
    }
   ],
   "source": [
    "print (\"Testing:\")\n",
    "y_pred = logr.predict(X_test)\n",
    "print (classification_report(y_test, y_pred, labels=None, target_names=None, sample_weight=None, digits=2, output_dict=False))\n",
    "print\n",
    "print (\"Accuracy: %.3f\" % accuracy_score(y_test, y_pred))\n",
    "print\n",
    "print (\"Confusion matrix:\")\n",
    "print (confusion_matrix(y_test, y_pred))\n",
    "print(\"\")"
   ]
  },
  {
   "cell_type": "markdown",
   "metadata": {},
   "source": [
    "## Gaussian Naive Bayes"
   ]
  },
  {
   "cell_type": "code",
   "execution_count": 59,
   "metadata": {},
   "outputs": [
    {
     "name": "stdout",
     "output_type": "stream",
     "text": [
      "Training ...\n",
      "Gaussian Naive Bayes training took 999003 microseconds\n"
     ]
    }
   ],
   "source": [
    "from sklearn.naive_bayes import GaussianNB\n",
    "\n",
    "start = datetime.now()\n",
    "gnb=GaussianNB()\n",
    "print (\"Training ...\")\n",
    "gnb.fit(X_train,y_train)\n",
    "end = datetime.now()\n",
    "c = start - end\n",
    "print(\"Gaussian Naive Bayes training took \"+ str(c.microseconds) + \" microseconds\")"
   ]
  },
  {
   "cell_type": "code",
   "execution_count": 60,
   "metadata": {},
   "outputs": [
    {
     "name": "stdout",
     "output_type": "stream",
     "text": [
      "Testing:\n",
      "              precision    recall  f1-score   support\n",
      "\n",
      "           0       0.57      0.12      0.21        32\n",
      "           1       0.46      0.89      0.61        27\n",
      "\n",
      "    accuracy                           0.47        59\n",
      "   macro avg       0.52      0.51      0.41        59\n",
      "weighted avg       0.52      0.47      0.39        59\n",
      "\n",
      "Accuracy: 0.475\n",
      "Confusion matrix:\n",
      "[[ 4 28]\n",
      " [ 3 24]]\n",
      "\n"
     ]
    }
   ],
   "source": [
    "print (\"Testing:\")\n",
    "y_pred = gnb.predict(X_test)\n",
    "print (classification_report(y_test, y_pred, labels=None, target_names=None, sample_weight=None, digits=2, output_dict=False))\n",
    "print\n",
    "print (\"Accuracy: %.3f\" % accuracy_score(y_test, y_pred))\n",
    "print\n",
    "print (\"Confusion matrix:\")\n",
    "print (confusion_matrix(y_test, y_pred))\n",
    "print(\"\")"
   ]
  },
  {
   "cell_type": "markdown",
   "metadata": {},
   "source": [
    "## Cross Validation"
   ]
  },
  {
   "cell_type": "code",
   "execution_count": 61,
   "metadata": {},
   "outputs": [
    {
     "name": "stdout",
     "output_type": "stream",
     "text": [
      "Çapraz Sağlama skor (3-kat): [0.75 0.83 0.84]\n",
      "Ortalama çapraz sağlama skor (3-kat): 0.808\n"
     ]
    },
    {
     "name": "stderr",
     "output_type": "stream",
     "text": [
      "C:\\Users\\soner\\Anaconda3\\lib\\site-packages\\sklearn\\model_selection\\_split.py:1978: FutureWarning: The default value of cv will change from 3 to 5 in version 0.22. Specify it explicitly to silence this warning.\n",
      "  warnings.warn(CV_WARNING, FutureWarning)\n"
     ]
    }
   ],
   "source": [
    "from sklearn.model_selection import cross_val_score\n",
    "from sklearn.neighbors import KNeighborsClassifier\n",
    "import numpy as np\n",
    "import pandas as pd\n",
    "np.set_printoptions(precision=2)\n",
    "\n",
    "\n",
    "clf = KNeighborsClassifier(n_neighbors = 2, metric = \"minkowski\")\n",
    "cv_scores = cross_val_score(clf, X_train, y_train)\n",
    "\n",
    "print('Çapraz Sağlama skor (3-kat):', cv_scores)\n",
    "print('Ortalama çapraz sağlama skor (3-kat): {:.3f}'\n",
    "     .format(np.mean(cv_scores)))"
   ]
  },
  {
   "cell_type": "code",
   "execution_count": 76,
   "metadata": {},
   "outputs": [],
   "source": [
    "from sklearn.model_selection import validation_curve\n",
    "\n",
    "param_range = np.logspace(-3, 3, 4)\n",
    "train_scores, test_scores = validation_curve(SVC(), X_train, y_train,\n",
    "                                            param_name='gamma',\n",
    "                                            param_range=param_range, cv=3)"
   ]
  },
  {
   "cell_type": "code",
   "execution_count": 77,
   "metadata": {},
   "outputs": [
    {
     "name": "stdout",
     "output_type": "stream",
     "text": [
      "[[0.71 0.64 0.61]\n",
      " [0.96 0.98 0.98]\n",
      " [1.   1.   1.  ]\n",
      " [1.   1.   1.  ]]\n"
     ]
    }
   ],
   "source": [
    "print(train_scores)"
   ]
  },
  {
   "cell_type": "code",
   "execution_count": 78,
   "metadata": {},
   "outputs": [
    {
     "name": "stdout",
     "output_type": "stream",
     "text": [
      "[[0.58 0.56 0.55]\n",
      " [0.73 0.81 0.71]\n",
      " [0.52 0.53 0.52]\n",
      " [0.52 0.53 0.52]]\n"
     ]
    }
   ],
   "source": [
    "print(test_scores)"
   ]
  },
  {
   "cell_type": "code",
   "execution_count": 79,
   "metadata": {},
   "outputs": [
    {
     "data": {
      "image/png": "[encoded data removed]",
      "text/plain": [
       "<Figure size 432x288 with 1 Axes>"
      ]
     },
     "metadata": {
      "needs_background": "light"
     },
     "output_type": "display_data"
    }
   ],
   "source": [
    "import matplotlib.pyplot as plt\n",
    "plt.figure()\n",
    "\n",
    "train_scores_mean = np.mean(train_scores, axis=1)\n",
    "train_scores_std = np.std(train_scores, axis=1)\n",
    "test_scores_mean = np.mean(test_scores, axis=1)\n",
    "test_scores_std = np.std(test_scores, axis=1)\n",
    "\n",
    "plt.title('Validation Curve with SVM')\n",
    "plt.xlabel('$\\gamma$ (gamma)')\n",
    "plt.ylabel('Score')\n",
    "plt.ylim(0.0, 1.1)\n",
    "lw = 2\n",
    "\n",
    "plt.semilogx(param_range, train_scores_mean, label='Training score',\n",
    "            color='darkorange', lw=lw)\n",
    "\n",
    "plt.fill_between(param_range, train_scores_mean - train_scores_std,\n",
    "                train_scores_mean + train_scores_std, alpha=0.2,\n",
    "                color='darkorange', lw=lw)\n",
    "\n",
    "plt.semilogx(param_range, test_scores_mean, label='Cross-validation score',\n",
    "            color='navy', lw=lw)\n",
    "\n",
    "plt.fill_between(param_range, test_scores_mean - test_scores_std,\n",
    "                test_scores_mean + test_scores_std, alpha=0.2,\n",
    "                color='navy', lw=lw)\n",
    "\n",
    "plt.legend(loc='best')\n",
    "plt.show()"
   ]
  },
  {
   "cell_type": "markdown",
   "metadata": {},
   "source": [
    "## ROC Curve "
   ]
  },
  {
   "cell_type": "code",
   "execution_count": 80,
   "metadata": {},
   "outputs": [
    {
     "name": "stdout",
     "output_type": "stream",
     "text": [
      "gamma = 0.01  doğruluk = 0.75   AUC = 0.84\n",
      "gamma = 0.10  doğruluk = 0.88   AUC = 0.96\n",
      "gamma = 0.20  doğruluk = 0.92   AUC = 0.95\n",
      "gamma = 1.00  doğruluk = 0.76   AUC = 0.90\n"
     ]
    },
    {
     "name": "stderr",
     "output_type": "stream",
     "text": [
      "C:\\Users\\soner\\Anaconda3\\lib\\site-packages\\ipykernel_launcher.py:23: MatplotlibDeprecationWarning: Adding an axes using the same arguments as a previous axes currently reuses the earlier instance.  In a future version, a new instance will always be created and returned.  Meanwhile, this warning can be suppressed, and the future behavior ensured, by passing a unique label to each axes instance.\n"
     ]
    },
    {
     "data": {
      "image/png": "[encoded data removed]",
      "text/plain": [
       "<Figure size 432x288 with 1 Axes>"
      ]
     },
     "metadata": {
      "needs_background": "light"
     },
     "output_type": "display_data"
    }
   ],
   "source": [
    "from matplotlib import cm\n",
    "from sklearn.metrics import roc_curve, auc\n",
    "\n",
    "plt.figure()\n",
    "plt.xlim([-0.01, 1.00])\n",
    "plt.ylim([-0.01, 1.01])\n",
    "for g in [0.01, 0.1, 0.20, 1]:\n",
    "    svm = SVC(gamma=g).fit(X_train, y_train)\n",
    "    y_score_svm = svm.decision_function(X_test)\n",
    "    fpr_svm, tpr_svm, _ = roc_curve(y_test, y_score_svm)\n",
    "    roc_auc_svm = auc(fpr_svm, tpr_svm)\n",
    "    accuracy_svm = svm.score(X_test, y_test)\n",
    "    print(\"gamma = {:.2f}  doğruluk = {:.2f}   AUC = {:.2f}\".format(g, accuracy_svm, \n",
    "                                                                    roc_auc_svm))\n",
    "    plt.plot(fpr_svm, tpr_svm, lw=3, alpha=0.7, \n",
    "             label='SVM (gamma = {:0.2f}, area = {:0.2f})'.format(g, roc_auc_svm))\n",
    "\n",
    "plt.xlabel('False Positive rate', fontsize=16)\n",
    "plt.ylabel('True Positive rate (Recall)', fontsize=16)\n",
    "plt.plot([0, 1], [0, 1], color='k', lw=0.5, linestyle='--')\n",
    "plt.legend(loc=\"lower right\", fontsize=11)\n",
    "plt.title('ROC Curve: (1-of-1)', fontsize=16)\n",
    "plt.axes().set_aspect('equal')\n",
    "\n",
    "plt.show()"
   ]
  }
 ],
 "metadata": {
  "kernelspec": {
   "display_name": "Python 3",
   "language": "python",
   "name": "python3"
  },
  "language_info": {
   "codemirror_mode": {
    "name": "ipython",
    "version": 3
   },
   "file_extension": ".py",
   "mimetype": "text/x-python",
   "name": "python",
   "nbconvert_exporter": "python",
   "pygments_lexer": "ipython3",
   "version": "3.7.4"
  }
 },
 "nbformat": 4,
 "nbformat_minor": 4
}
