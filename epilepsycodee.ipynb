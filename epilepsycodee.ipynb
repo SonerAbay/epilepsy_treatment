{
 "cells": [
  {
   "cell_type": "code",
   "execution_count": 16,
   "metadata": {},
   "outputs": [],
   "source": [
    "## kutuphaneler\n",
    "import glob, os\n",
    "import sklearn as sk\n",
    "from datetime import datetime\n",
    "import numpy as np\n",
    "import matplotlib.pyplot as plt\n",
    "import pandas as pd\n",
    "from sklearn.metrics import classification_report, accuracy_score, confusion_matrix\n",
    "\n",
    "#veriyukleme\n",
    "epilepsy=pd.read_csv(\"epilepsi.csv\")\n",
    "\n",
    "conditions=['base','age','seizure.rate','period']\n",
    "X=epilepsy[conditions]\n",
    "y=epilepsy['treatment']"
   ]
  },
  {
   "cell_type": "code",
   "execution_count": 17,
   "metadata": {},
   "outputs": [],
   "source": [
    "#Train-Test Split\n",
    "\n",
    "from sklearn.model_selection import train_test_split\n",
    "X_train,X_test,y_train,y_test=train_test_split(X,y,train_size=0.75,random_state=0)"
   ]
  },
  {
   "cell_type": "code",
   "execution_count": 18,
   "metadata": {},
   "outputs": [
    {
     "name": "stdout",
     "output_type": "stream",
     "text": [
      "Training ...\n",
      "KNN training took 5757 microseconds\n"
     ]
    }
   ],
   "source": [
    "#Algoritmalar ve parametre uygulamaları\n",
    "\n",
    "#KNN ALGORİTMASI\n",
    "\n",
    "from sklearn.neighbors import KNeighborsClassifier\n",
    "\n",
    "print (\"Training ...\")\n",
    "start = datetime.now()\n",
    "knn = KNeighborsClassifier(n_neighbors=2,metric='minkowski')\n",
    "knn.fit(X_train, y_train)\n",
    "end = datetime.now()\n",
    "c = end - start\n",
    "print(\"KNN training took \"+ str(c.microseconds) + \" microseconds\")\n"
   ]
  },
  {
   "cell_type": "code",
   "execution_count": 19,
   "metadata": {},
   "outputs": [
    {
     "name": "stdout",
     "output_type": "stream",
     "text": [
      "Testing:\n",
      "              precision    recall  f1-score   support\n",
      "\n",
      "   Progabide       0.83      0.94      0.88        32\n",
      "     placebo       0.91      0.78      0.84        27\n",
      "\n",
      "    accuracy                           0.86        59\n",
      "   macro avg       0.87      0.86      0.86        59\n",
      "weighted avg       0.87      0.86      0.86        59\n",
      "\n",
      "Accuracy: 0.864\n",
      "Confusion matrix:\n",
      "[[30  2]\n",
      " [ 6 21]]\n",
      " \n"
     ]
    }
   ],
   "source": [
    "print (\"Testing:\")\n",
    "y_pred = knn.predict(X_test)\n",
    "print (classification_report(y_test, y_pred, labels=None, target_names=None, sample_weight=None, digits=2, output_dict=False))\n",
    "print\n",
    "print (\"Accuracy: %.3f\" % accuracy_score(y_test, y_pred))\n",
    "print\n",
    "print (\"Confusion matrix:\")\n",
    "print (confusion_matrix(y_test, y_pred))\n",
    "print(\" \")\n"
   ]
  },
  {
   "cell_type": "code",
   "execution_count": 20,
   "metadata": {},
   "outputs": [
    {
     "name": "stdout",
     "output_type": "stream",
     "text": [
      "Training ...\n",
      "SVM training took 10236 microseconds\n"
     ]
    }
   ],
   "source": [
    "#SVM ALGORİTMASI\n",
    "\n",
    "from sklearn.svm import SVC\n",
    "start = datetime.now()\n",
    "svc=SVC(kernel=\"rbf\",gamma=\"auto\")\n",
    "print (\"Training ...\")\n",
    "svc.fit(X_train,y_train)\n",
    "end = datetime.now()\n",
    "c = end - start\n",
    "print(\"SVM training took \"+ str(c.microseconds) + \" microseconds\")"
   ]
  },
  {
   "cell_type": "code",
   "execution_count": 21,
   "metadata": {},
   "outputs": [
    {
     "name": "stdout",
     "output_type": "stream",
     "text": [
      "Testing:\n",
      "              precision    recall  f1-score   support\n",
      "\n",
      "   Progabide       0.89      0.97      0.93        32\n",
      "     placebo       0.96      0.85      0.90        27\n",
      "\n",
      "    accuracy                           0.92        59\n",
      "   macro avg       0.92      0.91      0.91        59\n",
      "weighted avg       0.92      0.92      0.91        59\n",
      "\n",
      "Accuracy: 0.915\n",
      "Confusion matrix:\n",
      "[[31  1]\n",
      " [ 4 23]]\n",
      " \n"
     ]
    }
   ],
   "source": [
    "print (\"Testing:\")\n",
    "y_pred = svc.predict(X_test)\n",
    "print (classification_report(y_test, y_pred, labels=None, target_names=None, sample_weight=None, digits=2, output_dict=False))\n",
    "print (\"Accuracy: %.3f\" % accuracy_score(y_test, y_pred))\n",
    "print\n",
    "print (\"Confusion matrix:\")\n",
    "print (confusion_matrix(y_test, y_pred))\n",
    "print(\" \")\n",
    "\n"
   ]
  },
  {
   "cell_type": "code",
   "execution_count": 22,
   "metadata": {},
   "outputs": [
    {
     "name": "stdout",
     "output_type": "stream",
     "text": [
      "Training ...\n",
      "Logistic regression took 19552 microseconds\n"
     ]
    }
   ],
   "source": [
    "#LOJİSTİK REGRESYON\n",
    "\n",
    "from sklearn.linear_model import LogisticRegression\n",
    "\n",
    "start = datetime.now()\n",
    "logr=LogisticRegression(solver='lbfgs',C=50)\n",
    "print (\"Training ...\")\n",
    "logr.fit(X_train,y_train)\n",
    "end = datetime.now()\n",
    "c = end - start \n",
    "print(\"Logistic regression took \"+ str(c.microseconds) + \" microseconds\")"
   ]
  },
  {
   "cell_type": "code",
   "execution_count": 23,
   "metadata": {},
   "outputs": [
    {
     "name": "stdout",
     "output_type": "stream",
     "text": [
      "Testing:\n",
      "              precision    recall  f1-score   support\n",
      "\n",
      "   Progabide       0.59      0.62      0.61        32\n",
      "     placebo       0.52      0.48      0.50        27\n",
      "\n",
      "    accuracy                           0.56        59\n",
      "   macro avg       0.55      0.55      0.55        59\n",
      "weighted avg       0.56      0.56      0.56        59\n",
      "\n",
      "Accuracy: 0.559\n",
      "Confusion matrix:\n",
      "[[20 12]\n",
      " [14 13]]\n",
      "\n"
     ]
    }
   ],
   "source": [
    "print (\"Testing:\")\n",
    "y_pred = logr.predict(X_test)\n",
    "print (classification_report(y_test, y_pred, labels=None, target_names=None, sample_weight=None, digits=2, output_dict=False))\n",
    "print\n",
    "print (\"Accuracy: %.3f\" % accuracy_score(y_test, y_pred))\n",
    "print\n",
    "print (\"Confusion matrix:\")\n",
    "print (confusion_matrix(y_test, y_pred))\n",
    "print(\"\")"
   ]
  },
  {
   "cell_type": "code",
   "execution_count": 24,
   "metadata": {},
   "outputs": [
    {
     "name": "stdout",
     "output_type": "stream",
     "text": [
      "Training ...\n",
      "Gaussian Naive Bayes training took 994648 microseconds\n"
     ]
    }
   ],
   "source": [
    "#NAIVE BAYES \n",
    "\n",
    "from sklearn.naive_bayes import GaussianNB\n",
    "\n",
    "start = datetime.now()\n",
    "gnb=GaussianNB()\n",
    "print (\"Training ...\")\n",
    "gnb.fit(X_train,y_train)\n",
    "end = datetime.now()\n",
    "c = start - end\n",
    "print(\"Gaussian Naive Bayes training took \"+ str(c.microseconds) + \" microseconds\")"
   ]
  },
  {
   "cell_type": "code",
   "execution_count": 25,
   "metadata": {},
   "outputs": [
    {
     "name": "stdout",
     "output_type": "stream",
     "text": [
      "Testing:\n",
      "              precision    recall  f1-score   support\n",
      "\n",
      "   Progabide       0.57      0.12      0.21        32\n",
      "     placebo       0.46      0.89      0.61        27\n",
      "\n",
      "    accuracy                           0.47        59\n",
      "   macro avg       0.52      0.51      0.41        59\n",
      "weighted avg       0.52      0.47      0.39        59\n",
      "\n",
      "Accuracy: 0.475\n",
      "Confusion matrix:\n",
      "[[ 4 28]\n",
      " [ 3 24]]\n",
      "\n"
     ]
    }
   ],
   "source": [
    "print (\"Testing:\")\n",
    "y_pred = gnb.predict(X_test)\n",
    "print (classification_report(y_test, y_pred, labels=None, target_names=None, sample_weight=None, digits=2, output_dict=False))\n",
    "print\n",
    "print (\"Accuracy: %.3f\" % accuracy_score(y_test, y_pred))\n",
    "print\n",
    "print (\"Confusion matrix:\")\n",
    "print (confusion_matrix(y_test, y_pred))\n",
    "print(\"\")"
   ]
  },
  {
   "cell_type": "markdown",
   "metadata": {},
   "source": [
    "## Cross Validation"
   ]
  },
  {
   "cell_type": "code",
   "execution_count": 26,
   "metadata": {},
   "outputs": [
    {
     "name": "stdout",
     "output_type": "stream",
     "text": [
      "Çapraz Sağlama skor (3-kat): [0.53 0.62 0.53]\n",
      "Ortalama çapraz sağlama skor (3-kat): 0.555\n"
     ]
    },
    {
     "name": "stderr",
     "output_type": "stream",
     "text": [
      "C:\\Users\\Havva\\Anaconda3\\lib\\site-packages\\sklearn\\model_selection\\_split.py:1978: FutureWarning: The default value of cv will change from 3 to 5 in version 0.22. Specify it explicitly to silence this warning.\n",
      "  warnings.warn(CV_WARNING, FutureWarning)\n"
     ]
    }
   ],
   "source": [
    "from sklearn.model_selection import cross_val_score\n",
    "from sklearn.neighbors import KNeighborsClassifier\n",
    "import numpy as np\n",
    "import pandas as pd\n",
    "np.set_printoptions(precision=2)\n",
    "\n",
    "\n",
    "clf = KNeighborsClassifier(n_neighbors = 2, metric = \"minkowski\")\n",
    "cv_scores = cross_val_score(clf, X, y)\n",
    "\n",
    "print('Çapraz Sağlama skor (3-kat):', cv_scores)\n",
    "print('Ortalama çapraz sağlama skor (3-kat): {:.3f}'\n",
    "     .format(np.mean(cv_scores)))"
   ]
  },
  {
   "cell_type": "code",
   "execution_count": 27,
   "metadata": {},
   "outputs": [],
   "source": [
    "from sklearn.model_selection import validation_curve\n",
    "\n",
    "param_range = np.logspace(-3, 3, 4)\n",
    "train_scores, test_scores = validation_curve(SVC(), X, y,\n",
    "                                            param_name='gamma',\n",
    "                                            param_range=param_range, cv=2)"
   ]
  },
  {
   "cell_type": "code",
   "execution_count": 28,
   "metadata": {},
   "outputs": [
    {
     "name": "stdout",
     "output_type": "stream",
     "text": [
      "[[0.65 0.66]\n",
      " [0.97 0.97]\n",
      " [1.   1.  ]\n",
      " [1.   1.  ]]\n"
     ]
    }
   ],
   "source": [
    "print(train_scores)"
   ]
  },
  {
   "cell_type": "code",
   "execution_count": 29,
   "metadata": {},
   "outputs": [
    {
     "name": "stdout",
     "output_type": "stream",
     "text": [
      "[[0.56 0.48]\n",
      " [0.57 0.61]\n",
      " [0.53 0.53]\n",
      " [0.53 0.53]]\n"
     ]
    }
   ],
   "source": [
    "print(test_scores)"
   ]
  },
  {
   "cell_type": "code",
   "execution_count": 30,
   "metadata": {},
   "outputs": [
    {
     "data": {
      "image/png": "[encoded data removed]",
      "text/plain": [
       "<Figure size 432x288 with 1 Axes>"
      ]
     },
     "metadata": {
      "needs_background": "light"
     },
     "output_type": "display_data"
    }
   ],
   "source": [
    "import matplotlib.pyplot as plt\n",
    "plt.figure()\n",
    "\n",
    "train_scores_mean = np.mean(train_scores, axis=1)\n",
    "train_scores_std = np.std(train_scores, axis=1)\n",
    "test_scores_mean = np.mean(test_scores, axis=1)\n",
    "test_scores_std = np.std(test_scores, axis=1)\n",
    "\n",
    "plt.title('Validation Curve with SVM')\n",
    "plt.xlabel('$\\gamma$ (gamma)')\n",
    "plt.ylabel('Score')\n",
    "plt.ylim(0.0, 1.1)\n",
    "lw = 2\n",
    "\n",
    "plt.semilogx(param_range, train_scores_mean, label='Training score',\n",
    "            color='darkorange', lw=lw)\n",
    "\n",
    "plt.fill_between(param_range, train_scores_mean - train_scores_std,\n",
    "                train_scores_mean + train_scores_std, alpha=0.2,\n",
    "                color='darkorange', lw=lw)\n",
    "\n",
    "plt.semilogx(param_range, test_scores_mean, label='Cross-validation score',\n",
    "            color='navy', lw=lw)\n",
    "\n",
    "plt.fill_between(param_range, test_scores_mean - test_scores_std,\n",
    "                test_scores_mean + test_scores_std, alpha=0.2,\n",
    "                color='navy', lw=lw)\n",
    "\n",
    "plt.legend(loc='best')\n",
    "plt.show()"
   ]
  },
  {
   "cell_type": "code",
   "execution_count": null,
   "metadata": {},
   "outputs": [],
   "source": []
  },
  {
   "cell_type": "code",
   "execution_count": null,
   "metadata": {},
   "outputs": [],
   "source": []
  }
 ],
 "metadata": {
  "kernelspec": {
   "display_name": "Python 3",
   "language": "python",
   "name": "python3"
  },
  "language_info": {
   "codemirror_mode": {
    "name": "ipython",
    "version": 3
   },
   "file_extension": ".py",
   "mimetype": "text/x-python",
   "name": "python",
   "nbconvert_exporter": "python",
   "pygments_lexer": "ipython3",
   "version": "3.7.3"
  }
 },
 "nbformat": 4,
 "nbformat_minor": 4
}
